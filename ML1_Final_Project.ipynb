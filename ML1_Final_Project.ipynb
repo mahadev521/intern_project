{
  "cells": [
    {
      "cell_type": "markdown",
      "metadata": {
        "id": "M7cEvPzSB0CX"
      },
      "source": [
        "## Overview"
      ]
    },
    {
      "cell_type": "markdown",
      "metadata": {
        "id": "bRRIzhsYB-L7"
      },
      "source": [
        "- Here we will work on Signature Language Dataset [Kaggle Link](https://www.kaggle.com/datasets/ahmedkhanak1995/sign-language-gesture-images-dataset).\n",
        "- The goal of this project is to be able to identify correctly the different signed languages where the user can upload images and the CNN model will tell the user which character or number it represents. \n",
        "- Reference for functions:\n",
        "[Github Link Dr.Yuxiao Huang](https://github.com/yuxiaohuang/teaching/blob/master/gwu/machine_learning_I/spring_2022/code/utilities/p2_shallow_learning/pmlm_utilities_shallow.ipynb)\n",
        "\n"
      ]
    },
    {
      "cell_type": "markdown",
      "metadata": {
        "id": "cmsKZ78-xnXm"
      },
      "source": [
        "## Dataset"
      ]
    },
    {
      "cell_type": "markdown",
      "metadata": {
        "id": "i392FC9yx7g6"
      },
      "source": [
        "The dataset is obtained from a kaggle competition task. The dataset consists of 37 different hand sign gestures which includes A-Z alphabet gestures, 0-9 number gestures and also a gesture for space (space between two word in sign communication)."
      ]
    },
    {
      "cell_type": "markdown",
      "metadata": {
        "id": "2p8PoUj2EbV8"
      },
      "source": [
        "## Google Drive\n"
      ]
    },
    {
      "cell_type": "code",
      "execution_count": 3,
      "metadata": {
        "colab": {
          "base_uri": "https://localhost:8080/"
        },
        "id": "jaRSN2DaEaRL",
        "outputId": "896d663b-1f6d-4141-ae78-c8e14076cabe"
      },
      "outputs": [
        {
          "ename": "ModuleNotFoundError",
          "evalue": "No module named 'google.colab'",
          "output_type": "error",
          "traceback": [
            "\u001b[1;31m---------------------------------------------------------------------------\u001b[0m",
            "\u001b[1;31mModuleNotFoundError\u001b[0m                       Traceback (most recent call last)",
            "\u001b[1;32mc:\\Users\\srimanth mahadev\\OneDrive\\Desktop\\Sign_Language_CNN_Prediction-main\\Final_Project\\ML1_Final_Project.ipynb Cell 6\u001b[0m in \u001b[0;36m<module>\u001b[1;34m\u001b[0m\n\u001b[1;32m----> <a href='vscode-notebook-cell:/c%3A/Users/srimanth%20mahadev/OneDrive/Desktop/Sign_Language_CNN_Prediction-main/Final_Project/ML1_Final_Project.ipynb#X11sZmlsZQ%3D%3D?line=0'>1</a>\u001b[0m \u001b[39mfrom\u001b[39;00m \u001b[39mgoogle\u001b[39;00m\u001b[39m.\u001b[39;00m\u001b[39mcolab\u001b[39;00m \u001b[39mimport\u001b[39;00m drive\n\u001b[0;32m      <a href='vscode-notebook-cell:/c%3A/Users/srimanth%20mahadev/OneDrive/Desktop/Sign_Language_CNN_Prediction-main/Final_Project/ML1_Final_Project.ipynb#X11sZmlsZQ%3D%3D?line=1'>2</a>\u001b[0m \u001b[39mimport\u001b[39;00m \u001b[39msys\u001b[39;00m\n\u001b[0;32m      <a href='vscode-notebook-cell:/c%3A/Users/srimanth%20mahadev/OneDrive/Desktop/Sign_Language_CNN_Prediction-main/Final_Project/ML1_Final_Project.ipynb#X11sZmlsZQ%3D%3D?line=3'>4</a>\u001b[0m \u001b[39m# Mount Google Drive\u001b[39;00m\n",
            "\u001b[1;31mModuleNotFoundError\u001b[0m: No module named 'google.colab'"
          ]
        }
      ],
      "source": [
        "from google.colab import drive\n",
        "import sys\n",
        "\n",
        "# Mount Google Drive\n",
        "drive.mount('/content/drive',force_remount=True)\n",
        "#\"G:\\My Drive\\Colab Notebooks\\code\"\n",
        "\n",
        "# Get the absolute path of the current folder\n",
        "abspath_curr = '/content/drive/My Drive/Colab Notebooks/ML1_Assignment/'\n",
        "\n",
        "# Get the absolute path of the shallow utilities folder\n",
        "abspath_util_deep = '/content/drive/My Drive/Colab Notebooks/code/utilities/p3_deep_learning/'\n",
        "\n",
        "# Get the absolute path of the shallow models folder\n",
        "abspath_model_shallow = '/content/drive/My Drive/Colab Notebooks/code/models/p2_shallow_learning/'"
      ]
    },
    {
      "cell_type": "markdown",
      "metadata": {
        "id": "kKjEc5yWGAgQ"
      },
      "source": [
        "## Matplotlib"
      ]
    },
    {
      "cell_type": "code",
      "execution_count": 4,
      "metadata": {
        "id": "g_0q7uRZD49g"
      },
      "outputs": [],
      "source": [
        "import matplotlib.pyplot as plt\n",
        "%matplotlib inline \n",
        "\n",
        "# Set matplotlib sizes\n",
        "plt.rc('font', size=20)\n",
        "plt.rc('axes', titlesize=20)\n",
        "plt.rc('axes', labelsize=20)\n",
        "plt.rc('xtick', labelsize=20)\n",
        "plt.rc('ytick', labelsize=20)\n",
        "plt.rc('legend', fontsize=20)\n",
        "plt.rc('figure', titlesize=20)"
      ]
    },
    {
      "cell_type": "markdown",
      "metadata": {
        "id": "ikJT_pmrGDI-"
      },
      "source": [
        "## Tensorflow"
      ]
    },
    {
      "cell_type": "code",
      "execution_count": 7,
      "metadata": {
        "id": "-m382Vz_GE89"
      },
      "outputs": [
        {
          "name": "stderr",
          "output_type": "stream",
          "text": [
            "UsageError: Line magic function `%tensorflow_version` not found.\n"
          ]
        }
      ],
      "source": [
        "# The magic below allows us to use tensorflow version 2.x\n",
        "%tensorflow_version 2.x \n",
        "import tensorflow as tf\n",
        "from tensorflow import keras"
      ]
    },
    {
      "cell_type": "markdown",
      "metadata": {
        "id": "2eBdre7-GLU3"
      },
      "source": [
        "## Random Seed"
      ]
    },
    {
      "cell_type": "code",
      "execution_count": 9,
      "metadata": {
        "id": "opzYd7YDGMu3"
      },
      "outputs": [],
      "source": [
        "# The random seed\n",
        "random_seed = 42\n",
        "import tensorflow as tf\n",
        "# Set random seed in tensorflow\n",
        "tf.random.set_seed(random_seed)\n",
        "\n",
        "# Set random seed in numpy\n",
        "import numpy as np\n",
        "np.random.seed(random_seed)"
      ]
    },
    {
      "cell_type": "markdown",
      "metadata": {
        "id": "trMov4nMGOge"
      },
      "source": [
        "## Data Preprocessing"
      ]
    },
    {
      "cell_type": "code",
      "execution_count": 10,
      "metadata": {
        "colab": {
          "base_uri": "https://localhost:8080/"
        },
        "id": "6TpcnN6WGR1O",
        "outputId": "67c5fda8-a162-419d-a759-dff41fbcdf5e"
      },
      "outputs": [
        {
          "name": "stdout",
          "output_type": "stream",
          "text": [
            "[WinError 2] The system cannot find the file specified: '$abspath_util_deep'\n",
            "c:\\Users\\srimanth mahadev\\OneDrive\\Desktop\\Sign_Language_CNN_Prediction-main\\Final_Project\n"
          ]
        },
        {
          "ename": "Exception",
          "evalue": "File `'pmlm_utilities_deep.ipynb.py'` not found.",
          "output_type": "error",
          "traceback": [
            "\u001b[1;31m---------------------------------------------------------------------------\u001b[0m",
            "\u001b[1;31mOSError\u001b[0m                                   Traceback (most recent call last)",
            "File \u001b[1;32mc:\\Users\\srimanth mahadev\\AppData\\Local\\Programs\\Python\\Python310\\lib\\site-packages\\IPython\\core\\magics\\execution.py:696\u001b[0m, in \u001b[0;36mExecutionMagics.run\u001b[1;34m(self, parameter_s, runner, file_finder)\u001b[0m\n\u001b[0;32m    695\u001b[0m     fpath \u001b[39m=\u001b[39m arg_lst[\u001b[39m0\u001b[39m]\n\u001b[1;32m--> 696\u001b[0m     filename \u001b[39m=\u001b[39m file_finder(fpath)\n\u001b[0;32m    697\u001b[0m \u001b[39mexcept\u001b[39;00m \u001b[39mIndexError\u001b[39;00m \u001b[39mas\u001b[39;00m e:\n",
            "File \u001b[1;32mc:\\Users\\srimanth mahadev\\AppData\\Local\\Programs\\Python\\Python310\\lib\\site-packages\\IPython\\utils\\path.py:91\u001b[0m, in \u001b[0;36mget_py_filename\u001b[1;34m(name)\u001b[0m\n\u001b[0;32m     90\u001b[0m \u001b[39melse\u001b[39;00m:\n\u001b[1;32m---> 91\u001b[0m     \u001b[39mraise\u001b[39;00m \u001b[39mIOError\u001b[39;00m(\u001b[39m'\u001b[39m\u001b[39mFile `\u001b[39m\u001b[39m%r\u001b[39;00m\u001b[39m` not found.\u001b[39m\u001b[39m'\u001b[39m \u001b[39m%\u001b[39m name)\n",
            "\u001b[1;31mOSError\u001b[0m: File `'pmlm_utilities_deep.ipynb.py'` not found.",
            "\nThe above exception was the direct cause of the following exception:\n",
            "\u001b[1;31mException\u001b[0m                                 Traceback (most recent call last)",
            "\u001b[1;32mc:\\Users\\srimanth mahadev\\OneDrive\\Desktop\\Sign_Language_CNN_Prediction-main\\Final_Project\\ML1_Final_Project.ipynb Cell 14\u001b[0m in \u001b[0;36m<module>\u001b[1;34m\u001b[0m\n\u001b[0;32m      <a href='vscode-notebook-cell:/c%3A/Users/srimanth%20mahadev/OneDrive/Desktop/Sign_Language_CNN_Prediction-main/Final_Project/ML1_Final_Project.ipynb#X22sZmlsZQ%3D%3D?line=1'>2</a>\u001b[0m get_ipython()\u001b[39m.\u001b[39mrun_line_magic(\u001b[39m'\u001b[39m\u001b[39mcd\u001b[39m\u001b[39m'\u001b[39m, \u001b[39m'\u001b[39m\u001b[39m$abspath_util_deep\u001b[39m\u001b[39m'\u001b[39m)\n\u001b[0;32m      <a href='vscode-notebook-cell:/c%3A/Users/srimanth%20mahadev/OneDrive/Desktop/Sign_Language_CNN_Prediction-main/Final_Project/ML1_Final_Project.ipynb#X22sZmlsZQ%3D%3D?line=3'>4</a>\u001b[0m \u001b[39m# Import the deep utitilities\u001b[39;00m\n\u001b[1;32m----> <a href='vscode-notebook-cell:/c%3A/Users/srimanth%20mahadev/OneDrive/Desktop/Sign_Language_CNN_Prediction-main/Final_Project/ML1_Final_Project.ipynb#X22sZmlsZQ%3D%3D?line=4'>5</a>\u001b[0m get_ipython()\u001b[39m.\u001b[39;49mrun_line_magic(\u001b[39m'\u001b[39;49m\u001b[39mrun\u001b[39;49m\u001b[39m'\u001b[39;49m, \u001b[39m'\u001b[39;49m\u001b[39mpmlm_utilities_deep.ipynb\u001b[39;49m\u001b[39m'\u001b[39;49m)\n",
            "File \u001b[1;32mc:\\Users\\srimanth mahadev\\AppData\\Local\\Programs\\Python\\Python310\\lib\\site-packages\\IPython\\core\\interactiveshell.py:2204\u001b[0m, in \u001b[0;36mInteractiveShell.run_line_magic\u001b[1;34m(self, magic_name, line, _stack_depth)\u001b[0m\n\u001b[0;32m   2202\u001b[0m     kwargs[\u001b[39m'\u001b[39m\u001b[39mlocal_ns\u001b[39m\u001b[39m'\u001b[39m] \u001b[39m=\u001b[39m \u001b[39mself\u001b[39m\u001b[39m.\u001b[39mget_local_scope(stack_depth)\n\u001b[0;32m   2203\u001b[0m \u001b[39mwith\u001b[39;00m \u001b[39mself\u001b[39m\u001b[39m.\u001b[39mbuiltin_trap:\n\u001b[1;32m-> 2204\u001b[0m     result \u001b[39m=\u001b[39m fn(\u001b[39m*\u001b[39margs, \u001b[39m*\u001b[39m\u001b[39m*\u001b[39mkwargs)\n\u001b[0;32m   2205\u001b[0m \u001b[39mreturn\u001b[39;00m result\n",
            "File \u001b[1;32mc:\\Users\\srimanth mahadev\\AppData\\Local\\Programs\\Python\\Python310\\lib\\site-packages\\IPython\\core\\magics\\execution.py:707\u001b[0m, in \u001b[0;36mExecutionMagics.run\u001b[1;34m(self, parameter_s, runner, file_finder)\u001b[0m\n\u001b[0;32m    705\u001b[0m     \u001b[39mif\u001b[39;00m os\u001b[39m.\u001b[39mname \u001b[39m==\u001b[39m \u001b[39m'\u001b[39m\u001b[39mnt\u001b[39m\u001b[39m'\u001b[39m \u001b[39mand\u001b[39;00m re\u001b[39m.\u001b[39mmatch(\u001b[39mr\u001b[39m\u001b[39m\"\u001b[39m\u001b[39m^\u001b[39m\u001b[39m'\u001b[39m\u001b[39m.*\u001b[39m\u001b[39m'\u001b[39m\u001b[39m$\u001b[39m\u001b[39m\"\u001b[39m,fpath):\n\u001b[0;32m    706\u001b[0m         warn(\u001b[39m'\u001b[39m\u001b[39mFor Windows, use double quotes to wrap a filename: \u001b[39m\u001b[39m%r\u001b[39;00m\u001b[39mun \u001b[39m\u001b[39m\"\u001b[39m\u001b[39mmypath\u001b[39m\u001b[39m\\\\\u001b[39;00m\u001b[39mmyfile.py\u001b[39m\u001b[39m\"\u001b[39m\u001b[39m'\u001b[39m)\n\u001b[1;32m--> 707\u001b[0m     \u001b[39mraise\u001b[39;00m \u001b[39mException\u001b[39;00m(msg) \u001b[39mfrom\u001b[39;00m \u001b[39me\u001b[39;00m\n\u001b[0;32m    708\u001b[0m \u001b[39mexcept\u001b[39;00m \u001b[39mTypeError\u001b[39;00m:\n\u001b[0;32m    709\u001b[0m     \u001b[39mif\u001b[39;00m fpath \u001b[39min\u001b[39;00m sys\u001b[39m.\u001b[39mmeta_path:\n",
            "\u001b[1;31mException\u001b[0m: File `'pmlm_utilities_deep.ipynb.py'` not found."
          ]
        }
      ],
      "source": [
        "# Change working directory to the absolute path of the deep utilities folder\n",
        "%cd $abspath_util_deep\n",
        "\n",
        "# Import the deep utitilities\n",
        "%run pmlm_utilities_deep.ipynb"
      ]
    },
    {
      "cell_type": "markdown",
      "metadata": {
        "id": "pKCsv6ScGU8O"
      },
      "source": [
        "## Setting Up Kaggle Api"
      ]
    },
    {
      "cell_type": "code",
      "execution_count": 11,
      "metadata": {
        "colab": {
          "base_uri": "https://localhost:8080/",
          "height": 35
        },
        "id": "9-HLpkMWGWTB",
        "outputId": "f63f13b3-3399-4afc-ad0c-6e07dc88e308"
      },
      "outputs": [
        {
          "data": {
            "text/plain": [
              "'c:\\\\Users\\\\srimanth mahadev\\\\OneDrive\\\\Desktop\\\\Sign_Language_CNN_Prediction-main\\\\Final_Project'"
            ]
          },
          "execution_count": 11,
          "metadata": {},
          "output_type": "execute_result"
        }
      ],
      "source": [
        "import os\n",
        "os.getcwd()"
      ]
    },
    {
      "cell_type": "code",
      "execution_count": 12,
      "metadata": {
        "colab": {
          "base_uri": "https://localhost:8080/"
        },
        "id": "GhJ6hitc3HNQ",
        "outputId": "6491bbaf-4406-4099-d8ef-b56e51e8f1bc"
      },
      "outputs": [
        {
          "name": "stdout",
          "output_type": "stream",
          "text": [
            "Collecting kaggle\n",
            "  Downloading kaggle-1.5.12.tar.gz (58 kB)\n",
            "     ---------------------------------------- 59.0/59.0 kB 3.2 MB/s eta 0:00:00\n",
            "  Preparing metadata (setup.py): started\n",
            "  Preparing metadata (setup.py): finished with status 'done'\n",
            "Requirement already satisfied: six>=1.10 in c:\\users\\srimanth mahadev\\appdata\\local\\programs\\python\\python310\\lib\\site-packages (from kaggle) (1.12.0)\n",
            "Requirement already satisfied: certifi in c:\\users\\srimanth mahadev\\appdata\\local\\programs\\python\\python310\\lib\\site-packages (from kaggle) (2021.10.8)\n",
            "Requirement already satisfied: python-dateutil in c:\\users\\srimanth mahadev\\appdata\\local\\programs\\python\\python310\\lib\\site-packages (from kaggle) (2.8.2)\n",
            "Requirement already satisfied: requests in c:\\users\\srimanth mahadev\\appdata\\local\\programs\\python\\python310\\lib\\site-packages (from kaggle) (2.21.0)\n",
            "Requirement already satisfied: tqdm in c:\\users\\srimanth mahadev\\appdata\\local\\programs\\python\\python310\\lib\\site-packages (from kaggle) (4.64.0)\n",
            "Collecting python-slugify\n",
            "  Downloading python_slugify-6.1.2-py2.py3-none-any.whl (9.4 kB)\n",
            "Requirement already satisfied: urllib3 in c:\\users\\srimanth mahadev\\appdata\\local\\programs\\python\\python310\\lib\\site-packages (from kaggle) (1.24.3)\n",
            "Collecting text-unidecode>=1.3\n",
            "  Downloading text_unidecode-1.3-py2.py3-none-any.whl (78 kB)\n",
            "     ---------------------------------------- 78.2/78.2 kB ? eta 0:00:00\n",
            "Requirement already satisfied: idna<2.9,>=2.5 in c:\\users\\srimanth mahadev\\appdata\\local\\programs\\python\\python310\\lib\\site-packages (from requests->kaggle) (2.8)\n",
            "Requirement already satisfied: chardet<3.1.0,>=3.0.2 in c:\\users\\srimanth mahadev\\appdata\\local\\programs\\python\\python310\\lib\\site-packages (from requests->kaggle) (3.0.4)\n",
            "Requirement already satisfied: colorama in c:\\users\\srimanth mahadev\\appdata\\local\\programs\\python\\python310\\lib\\site-packages (from tqdm->kaggle) (0.4.4)\n",
            "Building wheels for collected packages: kaggle\n",
            "  Building wheel for kaggle (setup.py): started\n",
            "  Building wheel for kaggle (setup.py): finished with status 'done'\n",
            "  Created wheel for kaggle: filename=kaggle-1.5.12-py3-none-any.whl size=73051 sha256=cc2061a154f404aca65939aa46a3f5039de06f74c23b4856bc761a3426199aab\n",
            "  Stored in directory: c:\\users\\srimanth mahadev\\appdata\\local\\pip\\cache\\wheels\\70\\0c\\e6\\79103212a102e78b8453691b905f48000219574ba7137e7207\n",
            "Successfully built kaggle\n",
            "Installing collected packages: text-unidecode, python-slugify, kaggle\n",
            "Successfully installed kaggle-1.5.12 python-slugify-6.1.2 text-unidecode-1.3\n"
          ]
        }
      ],
      "source": [
        "!pip install kaggle"
      ]
    },
    {
      "cell_type": "code",
      "execution_count": null,
      "metadata": {
        "id": "_ps4h1py4FfA"
      },
      "outputs": [],
      "source": [
        "from google.colab import files\n",
        "\n",
        "uploaded = files.upload()\n",
        "\n",
        "for fn in uploaded.keys():\n",
        "  print('User uploaded file \"{name}\" with length {length} bytes'.format(\n",
        "      name=fn, length=len(uploaded[fn])))\n",
        "  \n",
        "# Then move kaggle.json into the folder where the API expects to find it.\n",
        "!mkdir -p ~/.kaggle/ && mv kaggle.json ~/.kaggle/ && chmod 600 ~/.kaggle/kaggle.json"
      ]
    },
    {
      "cell_type": "code",
      "execution_count": null,
      "metadata": {
        "id": "KEWLF92q3NYv"
      },
      "outputs": [],
      "source": [
        "from kaggle.api.kaggle_api_extended import KaggleApi\n",
        "api = KaggleApi()\n",
        "api.authenticate()"
      ]
    },
    {
      "cell_type": "code",
      "execution_count": null,
      "metadata": {
        "id": "VygbOd3n4VSP"
      },
      "outputs": [],
      "source": [
        "api.dataset_download_files('ahmedkhanak1995/sign-language-gesture-images-dataset')\n"
      ]
    },
    {
      "cell_type": "code",
      "execution_count": null,
      "metadata": {
        "id": "nw03X7nP4_hr"
      },
      "outputs": [],
      "source": [
        "from zipfile import ZipFile\n",
        "zf = ZipFile('sign-language-gesture-images-dataset.zip')\n",
        "#extracted data is saved in the same directory as notebook\n",
        "zf.extractall('/content/drive/My Drive/Colab Notebooks/Final_Project/data') #path here \n",
        "zf.close()"
      ]
    },
    {
      "cell_type": "markdown",
      "metadata": {
        "id": "JClN9frQ9GmP"
      },
      "source": [
        "## Loading Data\n"
      ]
    },
    {
      "cell_type": "code",
      "execution_count": 7,
      "metadata": {
        "id": "7RYXD93s9JVx"
      },
      "outputs": [],
      "source": [
        "data = '/content/drive/My Drive/Colab Notebooks/Final_Project/data/Gesture Image Data'"
      ]
    },
    {
      "cell_type": "code",
      "execution_count": 9,
      "metadata": {
        "colab": {
          "base_uri": "https://localhost:8080/"
        },
        "id": "oEpugX3WCc8F",
        "outputId": "730e7b33-a4c1-450e-81fb-5fc9013a51c0"
      },
      "outputs": [
        {
          "name": "stdout",
          "output_type": "stream",
          "text": [
            "['0', '1', '2', '3', '4', '5', '6', '7', '8', '9', 'A', 'B', 'C', 'D', 'E', 'F', 'G', 'H', 'I', 'J', 'K', 'L', 'M', 'N', 'O', 'P', 'Q', 'R', 'S', 'T', 'U', 'V', 'W', 'X', 'Y', 'Z', '_']\n",
            "37\n"
          ]
        }
      ],
      "source": [
        "categories = os.listdir(data)\n",
        "print(categories)\n",
        "print(len(categories))"
      ]
    },
    {
      "cell_type": "code",
      "execution_count": 10,
      "metadata": {
        "colab": {
          "base_uri": "https://localhost:8080/",
          "height": 280
        },
        "id": "QE6MIrnqDAXj",
        "outputId": "ed9891a7-131c-4416-af5f-56b114609f09"
      },
      "outputs": [
        {
          "data": {
            "image/png": "[encoded data removed]",
            "text/plain": [
              "<Figure size 432x288 with 1 Axes>"
            ]
          },
          "metadata": {
            "needs_background": "light"
          },
          "output_type": "display_data"
        }
      ],
      "source": [
        "import numpy as np\n",
        "import matplotlib.pyplot as plt\n",
        "import os\n",
        "import cv2\n",
        "from tqdm import tqdm\n",
        "for x in categories:\n",
        "  path = os.path.join(data,x)\n",
        "  for img in os.listdir(path):\n",
        "        img_array = cv2.imread(os.path.join(path,img) ,cv2.IMREAD_GRAYSCALE)  # convert to array\n",
        "        plt.imshow(img_array, cmap='gray')  # graph it\n",
        "        plt.show()  # display!\n",
        "        break  # we just want one for now so break\n",
        "  break  #...and one more!    \n"
      ]
    },
    {
      "cell_type": "code",
      "execution_count": 11,
      "metadata": {
        "id": "A9ztH7p_R879"
      },
      "outputs": [],
      "source": [
        "training_data = []"
      ]
    },
    {
      "cell_type": "markdown",
      "metadata": {
        "id": "sFMTHXE_I7XI"
      },
      "source": [
        "## Creating Data for splitting"
      ]
    },
    {
      "cell_type": "code",
      "execution_count": null,
      "metadata": {
        "id": "4ctSwNz8FhAi"
      },
      "outputs": [],
      "source": [
        "for y in categories:\n",
        "  path = os.path.join(data,y)\n",
        "  for img in os.listdir(path):\n",
        "    try:\n",
        "        img_array = cv2.imread(os.path.join(path,img) ,cv2.IMREAD_GRAYSCALE)\n",
        "        new_array = cv2.resize(img_array,(50,50))  # convert to array\n",
        "        training_data.append([new_array, y])\n",
        "    except Exception as e:\n",
        "      pass\n"
      ]
    },
    {
      "cell_type": "code",
      "execution_count": 14,
      "metadata": {
        "colab": {
          "base_uri": "https://localhost:8080/"
        },
        "id": "ZhZPQi-POnXI",
        "outputId": "f8b10fce-e684-449f-f024-803cf34cd7bb"
      },
      "outputs": [
        {
          "data": {
            "text/plain": [
              "[array([[ 97, 100,  97, ..., 116, 118, 117],\n",
              "        [ 96,  99,  97, ..., 118, 118, 118],\n",
              "        [ 96,  99,  97, ..., 116, 115, 115],\n",
              "        ...,\n",
              "        [ 85,  86,  85, ...,  89,  89,  90],\n",
              "        [ 88,  85,  84, ...,  89,  89,  88],\n",
              "        [ 87,  84,  84, ...,  90,  90,  89]], dtype=uint8), '0']"
            ]
          },
          "execution_count": 14,
          "metadata": {},
          "output_type": "execute_result"
        }
      ],
      "source": [
        "training_data[1]"
      ]
    },
    {
      "cell_type": "code",
      "execution_count": 58,
      "metadata": {
        "id": "CU8vHzGOGUQV"
      },
      "outputs": [],
      "source": [
        "import random \n",
        "\n",
        "random.shuffle(training_data)"
      ]
    },
    {
      "cell_type": "code",
      "execution_count": 61,
      "metadata": {
        "colab": {
          "base_uri": "https://localhost:8080/"
        },
        "id": "zIWcAj2jSmlP",
        "outputId": "5ad2affa-4354-4778-e454-aa26eec6601a"
      },
      "outputs": [
        {
          "data": {
            "text/plain": [
              "[array([[ 99,  97,  96, ..., 124, 130, 127],\n",
              "        [ 99, 102,  97, ..., 127, 128, 126],\n",
              "        [104,  97,  99, ..., 129, 124, 125],\n",
              "        ...,\n",
              "        [ 90,  91,  84, ...,  63,  63,  63],\n",
              "        [ 90,  88,  96, ...,  65,  61,  61],\n",
              "        [ 90,  89,  94, ...,  62,  61,  61]], dtype=uint8), '7']"
            ]
          },
          "execution_count": 61,
          "metadata": {},
          "output_type": "execute_result"
        }
      ],
      "source": [
        "training_data[1]"
      ]
    },
    {
      "cell_type": "code",
      "execution_count": 62,
      "metadata": {
        "id": "BOLzv4rCG_js"
      },
      "outputs": [],
      "source": [
        "X = []\n",
        "Y = []\n",
        "\n",
        "for features,label in training_data:\n",
        "    X.append(features)\n",
        "    Y.append(label)"
      ]
    },
    {
      "cell_type": "code",
      "execution_count": 63,
      "metadata": {
        "id": "HfImU_BvIVJU"
      },
      "outputs": [],
      "source": [
        "X = np.array(X)\n",
        "Y = np.array(Y)"
      ]
    },
    {
      "cell_type": "code",
      "execution_count": 12,
      "metadata": {
        "id": "idUJhVBnknVy"
      },
      "outputs": [],
      "source": [
        "transdict = {'_':1,\n",
        "    '0':2,\n",
        "    '1':3,\n",
        "    '2':4,\n",
        "    '3':5,\n",
        "    '4':6,\n",
        "    '5':7,\n",
        "    '6':8,\n",
        "    '7':9,\n",
        "    '8':10,\n",
        "    '9':11,\n",
        "    'A':12,\n",
        "    'B':13,\n",
        "    'C':14,\n",
        "    'D':15,\n",
        "    'E':16,\n",
        "    'F':17,\n",
        "    'G':18,\n",
        "    'H':19,\n",
        "    'I':20,\n",
        "    'J':21,\n",
        "    'K':22,\n",
        "    'L':23,\n",
        "    'M':24,\n",
        "    'N':25,\n",
        "    'O':26,\n",
        "    'P':27,\n",
        "    'Q':28,\n",
        "    'R':29,\n",
        "    'S':30,\n",
        "    'T':31,\n",
        "    'U':32,\n",
        "    'V':33,\n",
        "    'W':34,\n",
        "    'X':35,\n",
        "    'Y':36,\n",
        "    'Z':37,\n",
        "}\n",
        "def get_key(value, dictionary):\n",
        "  for key, val in dictionary.items():\n",
        "    if value == val:\n",
        "      return key \n",
        "  "
      ]
    },
    {
      "cell_type": "code",
      "execution_count": null,
      "metadata": {
        "id": "D6w7D6I34K35"
      },
      "outputs": [],
      "source": [
        "transform_Y = [transdict[letter] for letter in Y]"
      ]
    },
    {
      "cell_type": "code",
      "execution_count": null,
      "metadata": {
        "id": "ITPjIvUBlM2C"
      },
      "outputs": [],
      "source": [
        "Y = np.array(transform_Y)"
      ]
    },
    {
      "cell_type": "code",
      "execution_count": null,
      "metadata": {
        "id": "FtGGQuQkp0_9"
      },
      "outputs": [],
      "source": [
        "# Making it 3D \n",
        "X = np.array(X).reshape(-1,50,50,1)\n",
        "# Normalizing\n",
        "X = X/255"
      ]
    },
    {
      "cell_type": "code",
      "execution_count": 13,
      "metadata": {
        "id": "AcrX-J--4EO5"
      },
      "outputs": [],
      "source": [
        "# import pickle\n",
        "# X = pickle.load(open('X.pickle','rb'))\n",
        "# Y = pickle.load(open('y.pickle','rb'))\n",
        "# Used to import already preprocessed X & Y using pickle"
      ]
    },
    {
      "cell_type": "markdown",
      "metadata": {
        "id": "Ox77VNHxI13l"
      },
      "source": [
        "## Getting the Training, Validation and Test Dataset"
      ]
    },
    {
      "cell_type": "code",
      "execution_count": 14,
      "metadata": {
        "id": "Ra1wSZOHJa_g"
      },
      "outputs": [],
      "source": [
        "from sklearn.model_selection import train_test_split\n",
        "X_train, X_test, y_train, y_test  = train_test_split(X, Y, test_size=0.3, random_state=random_seed, stratify=Y)\n",
        "\n",
        "# We may dont need this because we can do a validation split in the model.fit\n",
        "X_train, X_val, y_train, y_val = train_test_split(X_train, y_train, test_size=0.3, random_state=random_seed, stratify=y_train)"
      ]
    },
    {
      "cell_type": "markdown",
      "metadata": {
        "id": "1eicwbYqS9ba"
      },
      "source": [
        "## Transforming Array to Tensor Dataset "
      ]
    },
    {
      "cell_type": "code",
      "execution_count": 15,
      "metadata": {
        "id": "SR7KDp6HTbh_"
      },
      "outputs": [],
      "source": [
        "data_train = tf.data.Dataset.from_tensor_slices((X_train, y_train))\n",
        "data_valid = tf.data.Dataset.from_tensor_slices((X_val, y_val))\n",
        "data_test = tf.data.Dataset.from_tensor_slices((X_test, y_test))"
      ]
    },
    {
      "cell_type": "code",
      "execution_count": 16,
      "metadata": {
        "colab": {
          "base_uri": "https://localhost:8080/"
        },
        "id": "e243-H7ramiR",
        "outputId": "95789aa1-be94-48c0-d53f-5a2f37682876"
      },
      "outputs": [
        {
          "data": {
            "text/plain": [
              "tensorflow.python.data.ops.dataset_ops.TensorSliceDataset"
            ]
          },
          "execution_count": 16,
          "metadata": {},
          "output_type": "execute_result"
        }
      ],
      "source": [
        "type(data_train)"
      ]
    },
    {
      "cell_type": "code",
      "execution_count": 17,
      "metadata": {
        "id": "RtUab1JMw78J"
      },
      "outputs": [],
      "source": [
        "# Set the batch size\n",
        "batch_size = 16\n",
        "\n",
        "# Batch and prefetch the training data\n",
        "data_train = data_train.batch(batch_size).prefetch(1)\n",
        "\n",
        "# Batch and prefetch the validation data\n",
        "data_valid = data_valid.batch(batch_size).prefetch(1)\n",
        "\n",
        "# Batch and prefetch the test data\n",
        "data_test = data_test.batch(batch_size).prefetch(1)"
      ]
    },
    {
      "cell_type": "markdown",
      "metadata": {
        "id": "gYzrWlEhxzhK"
      },
      "source": [
        "## Training "
      ]
    },
    {
      "cell_type": "code",
      "execution_count": 18,
      "metadata": {
        "id": "dxI4m2Ebx1qE"
      },
      "outputs": [],
      "source": [
        "# Make directory\n",
        "directory = os.path.dirname(abspath_curr + '/result/model/')\n",
        "if not os.path.exists(directory):\n",
        "    os.makedirs(directory)"
      ]
    },
    {
      "cell_type": "markdown",
      "metadata": {
        "id": "DBaWrSi1Ze3r"
      },
      "source": [
        "### Building Model"
      ]
    },
    {
      "cell_type": "code",
      "execution_count": 19,
      "metadata": {
        "colab": {
          "base_uri": "https://localhost:8080/"
        },
        "id": "S3fXPJ3_epfj",
        "outputId": "3f7010e7-dedc-48ea-d42f-10f3ff19ee6a"
      },
      "outputs": [
        {
          "name": "stdout",
          "output_type": "stream",
          "text": [
            "Model: \"sequential\"\n",
            "_________________________________________________________________\n",
            " Layer (type)                Output Shape              Param #   \n",
            "=================================================================\n",
            " conv2d (Conv2D)             (None, 46, 46, 32)        832       \n",
            "                                                                 \n",
            " max_pooling2d (MaxPooling2D  (None, 23, 23, 32)       0         \n",
            " )                                                               \n",
            "                                                                 \n",
            " flatten (Flatten)           (None, 16928)             0         \n",
            "                                                                 \n",
            " dense (Dense)               (None, 64)                1083456   \n",
            "                                                                 \n",
            " dropout (Dropout)           (None, 64)                0         \n",
            "                                                                 \n",
            " dense_1 (Dense)             (None, 38)                2470      \n",
            "                                                                 \n",
            "=================================================================\n",
            "Total params: 1,086,758\n",
            "Trainable params: 1,086,758\n",
            "Non-trainable params: 0\n",
            "_________________________________________________________________\n"
          ]
        }
      ],
      "source": [
        "model = keras.models.Sequential([\n",
        "    keras.layers.Conv2D(32, 5, activation='relu',input_shape=(50, 50, 1)),\n",
        "    keras.layers.MaxPooling2D(2),\n",
        "    keras.layers.Flatten(),  # <= add this\n",
        "    keras.layers.Dense(64, activation='relu'),\n",
        "    keras.layers.Dropout(0.1),\n",
        "    keras.layers.Dense(38, activation='softmax')\n",
        "])\n",
        "model.summary()"
      ]
    },
    {
      "cell_type": "code",
      "execution_count": 20,
      "metadata": {
        "id": "4lhaTqLhbHMg"
      },
      "outputs": [],
      "source": [
        "# Compile the model\n",
        "model.compile(keras.optimizers.Adam(learning_rate=0.0001),\n",
        "              loss='sparse_categorical_crossentropy',\n",
        "              metrics=['accuracy'])"
      ]
    },
    {
      "cell_type": "markdown",
      "metadata": {
        "id": "_hGqxfk323us"
      },
      "source": [
        "## Using TensorSlide Dataset"
      ]
    },
    {
      "cell_type": "code",
      "execution_count": 21,
      "metadata": {
        "id": "zh402CkLLcN-"
      },
      "outputs": [],
      "source": [
        "# ModelCheckpoint callback\n",
        "model_checkpoint_cb = keras.callbacks.ModelCheckpoint(filepath=abspath_curr + '/result/model_sign.h5',\n",
        "                                                      save_best_only=True,\n",
        "                                                      save_weights_only=True)\n",
        "\n",
        "# EarlyStopping callback\n",
        "early_stopping_cb = keras.callbacks.EarlyStopping(patience=2,\n",
        "                                                  restore_best_weights=True)\n",
        "\n",
        "# ReduceLROnPlateau callback\n",
        "reduce_lr_on_plateau_cb = keras.callbacks.ReduceLROnPlateau(factor=0.1,\n",
        "                                                            patience=2)"
      ]
    },
    {
      "cell_type": "code",
      "execution_count": 22,
      "metadata": {
        "colab": {
          "base_uri": "https://localhost:8080/"
        },
        "id": "iQw-0ooYb60_",
        "outputId": "9898ef9f-95f0-4c5a-8f27-a75cbb72d3c4"
      },
      "outputs": [
        {
          "name": "stdout",
          "output_type": "stream",
          "text": [
            "Epoch 1/5\n",
            "1700/1700 [==============================] - 18s 5ms/step - loss: 1.7608 - accuracy: 0.5097 - val_loss: 0.5712 - val_accuracy: 0.8729 - lr: 1.0000e-04\n",
            "Epoch 2/5\n",
            "1700/1700 [==============================] - 6s 4ms/step - loss: 0.6261 - accuracy: 0.8166 - val_loss: 0.2852 - val_accuracy: 0.9311 - lr: 1.0000e-04\n",
            "Epoch 3/5\n",
            "1700/1700 [==============================] - 6s 4ms/step - loss: 0.3919 - accuracy: 0.8813 - val_loss: 0.1807 - val_accuracy: 0.9580 - lr: 1.0000e-04\n",
            "Epoch 4/5\n",
            "1700/1700 [==============================] - 6s 4ms/step - loss: 0.2696 - accuracy: 0.9180 - val_loss: 0.0996 - val_accuracy: 0.9778 - lr: 1.0000e-04\n",
            "Epoch 5/5\n",
            "1700/1700 [==============================] - 6s 4ms/step - loss: 0.2072 - accuracy: 0.9357 - val_loss: 0.0757 - val_accuracy: 0.9828 - lr: 1.0000e-04\n"
          ]
        }
      ],
      "source": [
        "# Train, evaluate and save the best model\n",
        "history = model.fit(data_train,\n",
        "                    epochs=5,\n",
        "                    validation_data=data_valid,\n",
        "                    callbacks=[model_checkpoint_cb,\n",
        "                               early_stopping_cb,\n",
        "                               reduce_lr_on_plateau_cb])"
      ]
    },
    {
      "cell_type": "code",
      "execution_count": 23,
      "metadata": {
        "colab": {
          "base_uri": "https://localhost:8080/",
          "height": 348
        },
        "id": "jG_NrMLDb_fH",
        "outputId": "7e9a3477-f01e-472f-f453-2fdc7c1ac9b4"
      },
      "outputs": [
        {
          "data": {
            "image/png": "[encoded data removed]",
            "text/plain": [
              "<Figure size 576x360 with 1 Axes>"
            ]
          },
          "metadata": {
            "needs_background": "light"
          },
          "output_type": "display_data"
        }
      ],
      "source": [
        "import pandas as pd\n",
        "\n",
        "# Create a figure\n",
        "pd.DataFrame(history.history).plot(figsize=(8, 5))\n",
        "\n",
        "# Save and show the figure\n",
        "plt.tight_layout()\n",
        "plt.savefig(abspath_curr + '/result/model/learning_curve_sign.pdf')\n",
        "plt.show()"
      ]
    },
    {
      "cell_type": "code",
      "execution_count": 24,
      "metadata": {
        "colab": {
          "base_uri": "https://localhost:8080/"
        },
        "id": "KfU73ooDaFvV",
        "outputId": "ae42c065-b7d8-4977-d951-8dfe045070cf"
      },
      "outputs": [
        {
          "name": "stdout",
          "output_type": "stream",
          "text": [
            "1041/1041 [==============================] - 2s 2ms/step - loss: 0.0778 - accuracy: 0.9808\n"
          ]
        }
      ],
      "source": [
        "loss, accuracy = model.evaluate(data_test)"
      ]
    },
    {
      "cell_type": "markdown",
      "metadata": {
        "id": "m1pDVDjvpOUx"
      },
      "source": [
        "## Predictions"
      ]
    },
    {
      "cell_type": "code",
      "execution_count": 25,
      "metadata": {
        "colab": {
          "base_uri": "https://localhost:8080/",
          "height": 314
        },
        "id": "i3qiWW47pqC-",
        "outputId": "7bf5801e-ebe2-4a6c-e445-61c7dc1bb577"
      },
      "outputs": [
        {
          "data": {
            "image/png": "[encoded data removed]",
            "text/plain": [
              "<Figure size 432x288 with 1 Axes>"
            ]
          },
          "metadata": {
            "needs_background": "light"
          },
          "output_type": "display_data"
        },
        {
          "name": "stdout",
          "output_type": "stream",
          "text": [
            "Prediction: H\n",
            " Actual: G\n"
          ]
        }
      ],
      "source": [
        "img = cv2.imread(\"/content/drive/My Drive/Colab Notebooks/Final_Project/predimg/imgG.jpeg\",cv2.IMREAD_GRAYSCALE)\n",
        "img = cv2.resize(img, (50, 50))\n",
        "plt.imshow(img,cmap = 'gray')\n",
        "plt.show()\n",
        "\n",
        "img = np.reshape(img, [-1, 50, 50, 1])\n",
        "img = img/255\n",
        "pred= np.argmax(model.predict(img))\n",
        "pred= get_key(pred,transdict)\n",
        "print(f'Prediction: {pred}\\n Actual: G')"
      ]
    },
    {
      "cell_type": "code",
      "execution_count": 26,
      "metadata": {
        "colab": {
          "base_uri": "https://localhost:8080/",
          "height": 314
        },
        "id": "U0HAtJW464kM",
        "outputId": "e5c05b77-d85c-4622-bee2-a879357e057a"
      },
      "outputs": [
        {
          "data": {
            "image/png": "[encoded data removed]",
            "text/plain": [
              "<Figure size 432x288 with 1 Axes>"
            ]
          },
          "metadata": {
            "needs_background": "light"
          },
          "output_type": "display_data"
        },
        {
          "name": "stdout",
          "output_type": "stream",
          "text": [
            "Prediction: 1\n",
            " Actual: L\n"
          ]
        }
      ],
      "source": [
        "img = cv2.imread(\"/content/drive/My Drive/Colab Notebooks/Final_Project/predimg/imgL.jpg\",cv2.IMREAD_GRAYSCALE)\n",
        "img = cv2.resize(img, (50, 50))\n",
        "plt.imshow(img,cmap = 'gray')\n",
        "plt.show()\n",
        "\n",
        "img = np.reshape(img, [-1, 50, 50, 1])\n",
        "img = img/255\n",
        "pred= np.argmax(model.predict(img))\n",
        "pred= get_key(pred,transdict)\n",
        "print(f'Prediction: {pred}\\n Actual: L')"
      ]
    },
    {
      "cell_type": "code",
      "execution_count": 27,
      "metadata": {
        "colab": {
          "base_uri": "https://localhost:8080/",
          "height": 314
        },
        "id": "s4oTH_hlB19s",
        "outputId": "941a1da9-4bb5-44c7-d3b1-beb76c6031ac"
      },
      "outputs": [
        {
          "data": {
            "image/png": "[encoded data removed]",
            "text/plain": [
              "<Figure size 432x288 with 1 Axes>"
            ]
          },
          "metadata": {
            "needs_background": "light"
          },
          "output_type": "display_data"
        },
        {
          "name": "stdout",
          "output_type": "stream",
          "text": [
            "Prediction: F\n",
            " Actual: U\n"
          ]
        }
      ],
      "source": [
        "img = cv2.imread(\"/content/drive/My Drive/Colab Notebooks/Final_Project/predimg/imgU.jpg\",cv2.IMREAD_GRAYSCALE)\n",
        "img = cv2.resize(img, (50, 50))\n",
        "plt.imshow(img,cmap = 'gray')\n",
        "plt.show()\n",
        "\n",
        "img = np.reshape(img, [-1, 50, 50, 1])\n",
        "img = img/255\n",
        "pred= np.argmax(model.predict(img))\n",
        "pred= get_key(pred,transdict)\n",
        "print(f'Prediction: {pred}\\n Actual: U')"
      ]
    },
    {
      "cell_type": "code",
      "execution_count": 28,
      "metadata": {
        "colab": {
          "base_uri": "https://localhost:8080/",
          "height": 314
        },
        "id": "UtuPCkkFCCzh",
        "outputId": "d1c53944-bba0-4526-f58e-c491ca8d4950"
      },
      "outputs": [
        {
          "data": {
            "image/png": "[encoded data removed]",
            "text/plain": [
              "<Figure size 432x288 with 1 Axes>"
            ]
          },
          "metadata": {
            "needs_background": "light"
          },
          "output_type": "display_data"
        },
        {
          "name": "stdout",
          "output_type": "stream",
          "text": [
            "Prediction: G\n",
            " Actual: 3\n"
          ]
        }
      ],
      "source": [
        "img = cv2.imread(\"/content/drive/My Drive/Colab Notebooks/Final_Project/predimg/img3.jpg\",cv2.IMREAD_GRAYSCALE)\n",
        "img = cv2.resize(img, (50, 50))\n",
        "plt.imshow(img,cmap = 'gray')\n",
        "plt.show()\n",
        "\n",
        "img = np.reshape(img, [-1, 50, 50, 1])\n",
        "img = img/255\n",
        "pred= np.argmax(model.predict(img))\n",
        "pred= get_key(pred,transdict)\n",
        "print(f'Prediction: {pred}\\n Actual: 3')"
      ]
    },
    {
      "cell_type": "code",
      "execution_count": 29,
      "metadata": {
        "colab": {
          "base_uri": "https://localhost:8080/",
          "height": 314
        },
        "id": "PWRJqnLNCx1P",
        "outputId": "2885a323-cccf-4a9c-f5dc-89cfa6155821"
      },
      "outputs": [
        {
          "data": {
            "image/png": "[encoded data removed]",
            "text/plain": [
              "<Figure size 432x288 with 1 Axes>"
            ]
          },
          "metadata": {
            "needs_background": "light"
          },
          "output_type": "display_data"
        },
        {
          "name": "stdout",
          "output_type": "stream",
          "text": [
            "Prediction: F\n",
            " Actual: 7\n"
          ]
        }
      ],
      "source": [
        "img = cv2.imread(\"/content/drive/My Drive/Colab Notebooks/Final_Project/predimg/img7.jpg\",cv2.IMREAD_GRAYSCALE)\n",
        "img = cv2.resize(img, (50, 50))\n",
        "plt.imshow(img,cmap = 'gray')\n",
        "plt.show()\n",
        "\n",
        "img = np.reshape(img, [-1, 50, 50, 1])\n",
        "img = img/255\n",
        "pred= np.argmax(model.predict(img))\n",
        "pred= get_key(pred,transdict)\n",
        "print(f'Prediction: {pred}\\n Actual: 7')"
      ]
    },
    {
      "cell_type": "code",
      "execution_count": 30,
      "metadata": {
        "colab": {
          "base_uri": "https://localhost:8080/",
          "height": 314
        },
        "id": "KoIK8NXgJpLr",
        "outputId": "292a54b8-0cee-4a0b-b486-98466cff1131"
      },
      "outputs": [
        {
          "data": {
            "image/png": "[encoded data removed]",
            "text/plain": [
              "<Figure size 432x288 with 1 Axes>"
            ]
          },
          "metadata": {
            "needs_background": "light"
          },
          "output_type": "display_data"
        },
        {
          "name": "stdout",
          "output_type": "stream",
          "text": [
            "Prediction: 1\n",
            " Actual: 4\n"
          ]
        }
      ],
      "source": [
        "img = cv2.imread(\"/content/drive/My Drive/Colab Notebooks/Final_Project/predimg/img4.jpeg\",cv2.IMREAD_GRAYSCALE)\n",
        "img = cv2.resize(img, (50, 50))\n",
        "plt.imshow(img,cmap = 'gray')\n",
        "plt.show()\n",
        "\n",
        "img = np.reshape(img, [-1, 50, 50, 1])\n",
        "img = img/255\n",
        "pred= np.argmax(model.predict(img))\n",
        "pred= get_key(pred,transdict)\n",
        "print(f'Prediction: {pred}\\n Actual: 4')"
      ]
    },
    {
      "cell_type": "code",
      "execution_count": 31,
      "metadata": {
        "colab": {
          "base_uri": "https://localhost:8080/",
          "height": 314
        },
        "id": "i_g0qBfENy1K",
        "outputId": "7c710979-b42d-4661-9e58-ad6fe6f03b76"
      },
      "outputs": [
        {
          "data": {
            "image/png": "[encoded data removed]",
            "text/plain": [
              "<Figure size 432x288 with 1 Axes>"
            ]
          },
          "metadata": {
            "needs_background": "light"
          },
          "output_type": "display_data"
        },
        {
          "name": "stdout",
          "output_type": "stream",
          "text": [
            "Prediction: 0\n",
            " Actual: 0\n"
          ]
        }
      ],
      "source": [
        "img = cv2.imread(\"/content/drive/My Drive/Colab Notebooks/Final_Project/predimg/img0.jpg\",cv2.IMREAD_GRAYSCALE)\n",
        "img = cv2.resize(img, (50, 50))\n",
        "plt.imshow(img,cmap = 'gray')\n",
        "plt.show()\n",
        "\n",
        "img = np.reshape(img, [-1, 50, 50, 1])\n",
        "img = img/255\n",
        "pred= np.argmax(model.predict(img))\n",
        "pred= get_key(pred,transdict)\n",
        "print(f'Prediction: {pred}\\n Actual: 0')"
      ]
    },
    {
      "cell_type": "code",
      "execution_count": 32,
      "metadata": {
        "colab": {
          "base_uri": "https://localhost:8080/",
          "height": 314
        },
        "id": "q-c-_zc0R7yy",
        "outputId": "933f794c-7dd5-41af-ae75-b53d6965c799"
      },
      "outputs": [
        {
          "data": {
            "image/png": "[encoded data removed]",
            "text/plain": [
              "<Figure size 432x288 with 1 Axes>"
            ]
          },
          "metadata": {
            "needs_background": "light"
          },
          "output_type": "display_data"
        },
        {
          "name": "stdout",
          "output_type": "stream",
          "text": [
            "Prediction: A\n",
            " Actual: A\n"
          ]
        }
      ],
      "source": [
        "img = cv2.imread(\"/content/drive/My Drive/Colab Notebooks/Final_Project/predimg/imgA.jpg\",cv2.IMREAD_GRAYSCALE)\n",
        "img = cv2.resize(img, (50, 50))\n",
        "plt.imshow(img,cmap = 'gray')\n",
        "plt.show()\n",
        "\n",
        "img = np.reshape(img, [-1, 50, 50, 1])\n",
        "img = img/255\n",
        "pred= np.argmax(model.predict(img))\n",
        "pred= get_key(pred,transdict)\n",
        "print(f'Prediction: {pred}\\n Actual: A')"
      ]
    },
    {
      "cell_type": "code",
      "execution_count": 33,
      "metadata": {
        "colab": {
          "base_uri": "https://localhost:8080/",
          "height": 314
        },
        "id": "KuwfuLsquOoD",
        "outputId": "7a90faec-4f00-4e89-f580-6284aaafad37"
      },
      "outputs": [
        {
          "data": {
            "image/png": "[encoded data removed]",
            "text/plain": [
              "<Figure size 432x288 with 1 Axes>"
            ]
          },
          "metadata": {
            "needs_background": "light"
          },
          "output_type": "display_data"
        },
        {
          "name": "stdout",
          "output_type": "stream",
          "text": [
            "Prediction: G\n",
            " Actual: Z\n"
          ]
        }
      ],
      "source": [
        "img = cv2.imread(\"/content/drive/My Drive/Colab Notebooks/Final_Project/predimg/imgZ.jpg\",cv2.IMREAD_GRAYSCALE)\n",
        "img = cv2.resize(img, (50, 50))\n",
        "plt.imshow(img,cmap = 'gray')\n",
        "plt.show()\n",
        "\n",
        "img = np.reshape(img, [-1, 50, 50, 1])\n",
        "img = img/255\n",
        "pred= np.argmax(model.predict(img))\n",
        "pred= get_key(pred,transdict)\n",
        "print(f'Prediction: {pred}\\n Actual: Z')"
      ]
    },
    {
      "cell_type": "markdown",
      "metadata": {
        "id": "8r_8C5G1ybcM"
      },
      "source": [
        "## Conclusion"
      ]
    },
    {
      "cell_type": "markdown",
      "metadata": {
        "id": "FXkuoyipyc8Q"
      },
      "source": [
        "Used CNN to train sign language images. \n",
        "We got an average of 93% of accuracy score from the train and test set.\n",
        "The problem we encountered was that the dataset had similar images of each class and this made it difficult for the model to predict our images correctly.\n"
      ]
    },
    {
      "cell_type": "markdown",
      "metadata": {
        "id": "ehCcC1xDygcc"
      },
      "source": [
        "## Recommendation"
      ]
    },
    {
      "cell_type": "markdown",
      "metadata": {
        "id": "DIEZFLZQyjAY"
      },
      "source": [
        "We would suggest to train the model with different variation of images in each class."
      ]
    }
  ],
  "metadata": {
    "accelerator": "GPU",
    "colab": {
      "collapsed_sections": [],
      "machine_shape": "hm",
      "name": "ML1_Final_Project.ipynb",
      "provenance": []
    },
    "kernelspec": {
      "display_name": "Python 3.10.2 64-bit",
      "language": "python",
      "name": "python3"
    },
    "language_info": {
      "codemirror_mode": {
        "name": "ipython",
        "version": 3
      },
      "file_extension": ".py",
      "mimetype": "text/x-python",
      "name": "python",
      "nbconvert_exporter": "python",
      "pygments_lexer": "ipython3",
      "version": "3.10.2"
    },
    "vscode": {
      "interpreter": {
        "hash": "f69ee6c43f4f5b95e7013f540e160a876a67b48080195907fd87f912c60ce42e"
      }
    }
  },
  "nbformat": 4,
  "nbformat_minor": 0
}
